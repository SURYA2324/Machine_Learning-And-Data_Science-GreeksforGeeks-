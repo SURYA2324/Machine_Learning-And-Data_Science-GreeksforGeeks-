{
 "cells": [
  {
   "cell_type": "code",
   "execution_count": 1,
   "id": "ba42a7ea-c883-440e-8905-463d2e5dfa6f",
   "metadata": {},
   "outputs": [],
   "source": [
    "import numpy as np\n",
    "import pandas as pd\n",
    "import matplotlib.pyplot as plt\n",
    "import seaborn as sns\n",
    "from sklearn.preprocessing import LabelEncoder"
   ]
  },
  {
   "cell_type": "code",
   "execution_count": 2,
   "id": "050eb57b-3cbd-4d99-9a2d-487772e75e60",
   "metadata": {},
   "outputs": [],
   "source": [
    "main_data = pd.read_csv('demographics.csv')"
   ]
  },
  {
   "cell_type": "code",
   "execution_count": 3,
   "id": "23f5e91a-5ed9-438e-be89-7a7c5835c989",
   "metadata": {},
   "outputs": [
    {
     "data": {
      "text/html": [
       "<div>\n",
       "<style scoped>\n",
       "    .dataframe tbody tr th:only-of-type {\n",
       "        vertical-align: middle;\n",
       "    }\n",
       "\n",
       "    .dataframe tbody tr th {\n",
       "        vertical-align: top;\n",
       "    }\n",
       "\n",
       "    .dataframe thead th {\n",
       "        text-align: right;\n",
       "    }\n",
       "</style>\n",
       "<table border=\"1\" class=\"dataframe\">\n",
       "  <thead>\n",
       "    <tr style=\"text-align: right;\">\n",
       "      <th></th>\n",
       "      <th>first_name</th>\n",
       "      <th>last_name</th>\n",
       "      <th>blood_type</th>\n",
       "      <th>marriage_status</th>\n",
       "      <th>income</th>\n",
       "      <th>device</th>\n",
       "    </tr>\n",
       "  </thead>\n",
       "  <tbody>\n",
       "    <tr>\n",
       "      <th>0</th>\n",
       "      <td>Abdul</td>\n",
       "      <td>Colon</td>\n",
       "      <td>A+</td>\n",
       "      <td>married</td>\n",
       "      <td>145000</td>\n",
       "      <td>AndroidOS</td>\n",
       "    </tr>\n",
       "    <tr>\n",
       "      <th>1</th>\n",
       "      <td>Abdul</td>\n",
       "      <td>Pierce</td>\n",
       "      <td>B+</td>\n",
       "      <td>married</td>\n",
       "      <td>85000</td>\n",
       "      <td>MacOS</td>\n",
       "    </tr>\n",
       "    <tr>\n",
       "      <th>2</th>\n",
       "      <td>Desirae</td>\n",
       "      <td>Pierce</td>\n",
       "      <td>B+</td>\n",
       "      <td>MARRIED</td>\n",
       "      <td>130000</td>\n",
       "      <td>iOS</td>\n",
       "    </tr>\n",
       "    <tr>\n",
       "      <th>3</th>\n",
       "      <td>Shannon</td>\n",
       "      <td>Gibson</td>\n",
       "      <td>A+</td>\n",
       "      <td>married</td>\n",
       "      <td>175000</td>\n",
       "      <td>MacOS</td>\n",
       "    </tr>\n",
       "    <tr>\n",
       "      <th>4</th>\n",
       "      <td>Desirae</td>\n",
       "      <td>Little</td>\n",
       "      <td>B+</td>\n",
       "      <td>unmarried</td>\n",
       "      <td>130000</td>\n",
       "      <td>MacOS</td>\n",
       "    </tr>\n",
       "  </tbody>\n",
       "</table>\n",
       "</div>"
      ],
      "text/plain": [
       "  first_name last_name blood_type marriage_status  income     device\n",
       "0      Abdul     Colon         A+         married  145000  AndroidOS\n",
       "1      Abdul    Pierce         B+         married   85000      MacOS\n",
       "2    Desirae    Pierce         B+         MARRIED  130000        iOS\n",
       "3    Shannon    Gibson         A+         married  175000      MacOS\n",
       "4    Desirae    Little         B+      unmarried   130000      MacOS"
      ]
     },
     "execution_count": 3,
     "metadata": {},
     "output_type": "execute_result"
    }
   ],
   "source": [
    "main_data.head()"
   ]
  },
  {
   "cell_type": "code",
   "execution_count": 4,
   "id": "624dbd87-02c0-4649-b156-ea714564a254",
   "metadata": {},
   "outputs": [
    {
     "name": "stdout",
     "output_type": "stream",
     "text": [
      "  blood_type\n",
      "0         A+\n",
      "1         A-\n",
      "2         B+\n",
      "3         B-\n",
      "4        AB+\n",
      "5        AB-\n",
      "6         O+\n",
      "7         O-\n"
     ]
    }
   ],
   "source": [
    "valid_blood_type_list = ['A+', 'A-', 'B+', 'B-', 'AB+', 'AB-', 'O+', 'O-']\n",
    "blood_type_categories = pd.DataFrame({'blood_type': valid_blood_type_list})\n",
    "print(blood_type_categories)"
   ]
  },
  {
   "cell_type": "code",
   "execution_count": 5,
   "id": "ffe93571-8de8-4950-87a8-ac8d753605df",
   "metadata": {},
   "outputs": [
    {
     "data": {
      "text/plain": [
       "{'C+', 'D-'}"
      ]
     },
     "execution_count": 5,
     "metadata": {},
     "output_type": "execute_result"
    }
   ],
   "source": [
    "unique_blood_types_main = set(main_data['blood_type'])\n",
    "valid_blood_types_set = set(blood_type_categories['blood_type'])  \n",
    "bogus_blood_types = unique_blood_types_main.difference(valid_blood_types_set)\n",
    "bogus_blood_types"
   ]
  },
  {
   "cell_type": "code",
   "execution_count": 6,
   "id": "3011527d-812e-49a1-a90a-4e505bd9246c",
   "metadata": {},
   "outputs": [
    {
     "data": {
      "text/plain": [
       "array(['A+', 'B+', 'A-', 'AB-', 'AB+', 'B-', 'O-', 'O+'], dtype=object)"
      ]
     },
     "execution_count": 6,
     "metadata": {},
     "output_type": "execute_result"
    }
   ],
   "source": [
    "bogus_records_index = main_data['blood_type'].isin(bogus_blood_types)\n",
    "\n",
    "without_bogus_records = main_data[~bogus_records_index].copy()\n",
    "without_bogus_records['blood_type'].unique()"
   ]
  },
  {
   "cell_type": "code",
   "execution_count": 7,
   "id": "d084e0dc-6f1b-4a09-9e90-b86633372e6c",
   "metadata": {},
   "outputs": [
    {
     "data": {
      "text/plain": [
       "array(['married', 'MARRIED', ' married', 'unmarried ', 'divorced',\n",
       "       'unmarried', 'UNMARRIED', 'separated'], dtype=object)"
      ]
     },
     "execution_count": 7,
     "metadata": {},
     "output_type": "execute_result"
    }
   ],
   "source": [
    "main_data['marriage_status'].unique()"
   ]
  },
  {
   "cell_type": "code",
   "execution_count": 8,
   "id": "1ce3546e-a7db-4424-ac9d-e2a53b8fd84c",
   "metadata": {},
   "outputs": [
    {
     "data": {
      "text/plain": [
       "array(['married', ' married', 'unmarried ', 'divorced', 'unmarried',\n",
       "       'separated'], dtype=object)"
      ]
     },
     "execution_count": 8,
     "metadata": {},
     "output_type": "execute_result"
    }
   ],
   "source": [
    "inconsistent_data = main_data.copy()\n",
    "inconsistent_data['marriage_status'] = inconsistent_data['marriage_status'].str.lower()\n",
    "inconsistent_data['marriage_status'].unique()"
   ]
  },
  {
   "cell_type": "code",
   "execution_count": 9,
   "id": "1da7788e-97e7-4b64-b825-c414568eb311",
   "metadata": {},
   "outputs": [
    {
     "data": {
      "text/plain": [
       "array(['married', 'unmarried', 'divorced', 'separated'], dtype=object)"
      ]
     },
     "execution_count": 9,
     "metadata": {},
     "output_type": "execute_result"
    }
   ],
   "source": [
    "inconsistent_data['marriage_status'] = inconsistent_data['marriage_status'].str.strip()\n",
    "\n",
    "inconsistent_data['marriage_status'].unique()"
   ]
  },
  {
   "cell_type": "code",
   "execution_count": 10,
   "id": "41829f23-5a4a-451c-907c-95682a9c9a15",
   "metadata": {},
   "outputs": [
    {
     "name": "stdout",
     "output_type": "stream",
     "text": [
      "Max income - 190000, Min income - 40000\n"
     ]
    }
   ],
   "source": [
    "print(f\"Max income - {main_data['income'].max()}, Min income - {main_data['income'].min()}\")"
   ]
  },
  {
   "cell_type": "code",
   "execution_count": 11,
   "id": "0c012797-d2f8-4a41-8cea-fe40afbf6c6a",
   "metadata": {},
   "outputs": [
    {
     "data": {
      "text/html": [
       "<div>\n",
       "<style scoped>\n",
       "    .dataframe tbody tr th:only-of-type {\n",
       "        vertical-align: middle;\n",
       "    }\n",
       "\n",
       "    .dataframe tbody tr th {\n",
       "        vertical-align: top;\n",
       "    }\n",
       "\n",
       "    .dataframe thead th {\n",
       "        text-align: right;\n",
       "    }\n",
       "</style>\n",
       "<table border=\"1\" class=\"dataframe\">\n",
       "  <thead>\n",
       "    <tr style=\"text-align: right;\">\n",
       "      <th></th>\n",
       "      <th>first_name</th>\n",
       "      <th>last_name</th>\n",
       "      <th>blood_type</th>\n",
       "      <th>marriage_status</th>\n",
       "      <th>income</th>\n",
       "      <th>device</th>\n",
       "      <th>income_groups</th>\n",
       "    </tr>\n",
       "  </thead>\n",
       "  <tbody>\n",
       "    <tr>\n",
       "      <th>0</th>\n",
       "      <td>Abdul</td>\n",
       "      <td>Colon</td>\n",
       "      <td>A+</td>\n",
       "      <td>married</td>\n",
       "      <td>145000</td>\n",
       "      <td>AndroidOS</td>\n",
       "      <td>125k-150k</td>\n",
       "    </tr>\n",
       "    <tr>\n",
       "      <th>1</th>\n",
       "      <td>Abdul</td>\n",
       "      <td>Pierce</td>\n",
       "      <td>B+</td>\n",
       "      <td>married</td>\n",
       "      <td>85000</td>\n",
       "      <td>MacOS</td>\n",
       "      <td>75k-100k</td>\n",
       "    </tr>\n",
       "    <tr>\n",
       "      <th>2</th>\n",
       "      <td>Desirae</td>\n",
       "      <td>Pierce</td>\n",
       "      <td>B+</td>\n",
       "      <td>MARRIED</td>\n",
       "      <td>130000</td>\n",
       "      <td>iOS</td>\n",
       "      <td>125k-150k</td>\n",
       "    </tr>\n",
       "    <tr>\n",
       "      <th>3</th>\n",
       "      <td>Shannon</td>\n",
       "      <td>Gibson</td>\n",
       "      <td>A+</td>\n",
       "      <td>married</td>\n",
       "      <td>175000</td>\n",
       "      <td>MacOS</td>\n",
       "      <td>150k+</td>\n",
       "    </tr>\n",
       "    <tr>\n",
       "      <th>4</th>\n",
       "      <td>Desirae</td>\n",
       "      <td>Little</td>\n",
       "      <td>B+</td>\n",
       "      <td>unmarried</td>\n",
       "      <td>130000</td>\n",
       "      <td>MacOS</td>\n",
       "      <td>125k-150k</td>\n",
       "    </tr>\n",
       "  </tbody>\n",
       "</table>\n",
       "</div>"
      ],
      "text/plain": [
       "  first_name last_name blood_type marriage_status  income     device  \\\n",
       "0      Abdul     Colon         A+         married  145000  AndroidOS   \n",
       "1      Abdul    Pierce         B+         married   85000      MacOS   \n",
       "2    Desirae    Pierce         B+         MARRIED  130000        iOS   \n",
       "3    Shannon    Gibson         A+         married  175000      MacOS   \n",
       "4    Desirae    Little         B+      unmarried   130000      MacOS   \n",
       "\n",
       "  income_groups  \n",
       "0     125k-150k  \n",
       "1      75k-100k  \n",
       "2     125k-150k  \n",
       "3         150k+  \n",
       "4     125k-150k  "
      ]
     },
     "execution_count": 11,
     "metadata": {},
     "output_type": "execute_result"
    }
   ],
   "source": [
    "income_bins = [40000, 75000, 100000, 125000, 150000, np.inf]\n",
    "income_labels = ['40k-75k', '75k-100k', '100k-125k', '125k-150k', '150k+']\n",
    "\n",
    "remapping_data = main_data.copy()\n",
    "remapping_data['income_groups'] = pd.cut(\n",
    "    remapping_data['income'],\n",
    "    bins=income_bins,\n",
    "    labels=income_labels\n",
    ")\n",
    "\n",
    "remapping_data.head()"
   ]
  },
  {
   "cell_type": "code",
   "execution_count": 12,
   "id": "1ab61eb1-33e6-4da2-bd50-2ef335f0d063",
   "metadata": {},
   "outputs": [
    {
     "data": {
      "image/png": "[encoded data removed]",
      "text/plain": [
       "<Figure size 640x480 with 1 Axes>"
      ]
     },
     "metadata": {},
     "output_type": "display_data"
    }
   ],
   "source": [
    "remapping_data['income_groups'].value_counts().sort_index().plot.bar()\n",
    "plt.title('Income Group Distribution')\n",
    "plt.xlabel('Income Groups')\n",
    "plt.ylabel('Count')\n",
    "plt.tight_layout()\n",
    "plt.show()"
   ]
  },
  {
   "cell_type": "code",
   "execution_count": 13,
   "id": "d0d8014c-8766-475c-8119-a2fb9467abfc",
   "metadata": {},
   "outputs": [
    {
     "data": {
      "text/html": [
       "<div>\n",
       "<style scoped>\n",
       "    .dataframe tbody tr th:only-of-type {\n",
       "        vertical-align: middle;\n",
       "    }\n",
       "\n",
       "    .dataframe tbody tr th {\n",
       "        vertical-align: top;\n",
       "    }\n",
       "\n",
       "    .dataframe thead th {\n",
       "        text-align: right;\n",
       "    }\n",
       "</style>\n",
       "<table border=\"1\" class=\"dataframe\">\n",
       "  <thead>\n",
       "    <tr style=\"text-align: right;\">\n",
       "      <th></th>\n",
       "      <th>phone_numbers</th>\n",
       "    </tr>\n",
       "  </thead>\n",
       "  <tbody>\n",
       "    <tr>\n",
       "      <th>0</th>\n",
       "      <td>+91 9105094403</td>\n",
       "    </tr>\n",
       "    <tr>\n",
       "      <th>1</th>\n",
       "      <td>5467542589</td>\n",
       "    </tr>\n",
       "    <tr>\n",
       "      <th>2</th>\n",
       "      <td>+91 5755912379</td>\n",
       "    </tr>\n",
       "    <tr>\n",
       "      <th>3</th>\n",
       "      <td>7812955205</td>\n",
       "    </tr>\n",
       "    <tr>\n",
       "      <th>4</th>\n",
       "      <td>+91 9405881516</td>\n",
       "    </tr>\n",
       "  </tbody>\n",
       "</table>\n",
       "</div>"
      ],
      "text/plain": [
       "    phone_numbers\n",
       "0  +91 9105094403\n",
       "1      5467542589\n",
       "2  +91 5755912379\n",
       "3      7812955205\n",
       "4  +91 9405881516"
      ]
     },
     "execution_count": 13,
     "metadata": {},
     "output_type": "execute_result"
    }
   ],
   "source": [
    "import random\n",
    "phone_numbers = []\n",
    "\n",
    "for i in range(100):\n",
    "    number = random.randint(100000000, 9999999999)  # length can be 9 or 10 digits\n",
    "    if i % 2 == 0:\n",
    "        phone_numbers.append('+91 ' + str(number))  # add +91 prefix for some\n",
    "    else:\n",
    "        phone_numbers.append(str(number))\n",
    "\n",
    "phone_numbers_data = pd.DataFrame({\n",
    "    'phone_numbers': phone_numbers\n",
    "})\n",
    "\n",
    "phone_numbers_data.head()"
   ]
  },
  {
   "cell_type": "code",
   "execution_count": 14,
   "id": "4f9fd8ef-6ece-4ce9-8ce0-9b75d5317d58",
   "metadata": {},
   "outputs": [
    {
     "data": {
      "text/html": [
       "<div>\n",
       "<style scoped>\n",
       "    .dataframe tbody tr th:only-of-type {\n",
       "        vertical-align: middle;\n",
       "    }\n",
       "\n",
       "    .dataframe tbody tr th {\n",
       "        vertical-align: top;\n",
       "    }\n",
       "\n",
       "    .dataframe thead th {\n",
       "        text-align: right;\n",
       "    }\n",
       "</style>\n",
       "<table border=\"1\" class=\"dataframe\">\n",
       "  <thead>\n",
       "    <tr style=\"text-align: right;\">\n",
       "      <th></th>\n",
       "      <th>phone_numbers</th>\n",
       "    </tr>\n",
       "  </thead>\n",
       "  <tbody>\n",
       "    <tr>\n",
       "      <th>0</th>\n",
       "      <td>9105094403</td>\n",
       "    </tr>\n",
       "    <tr>\n",
       "      <th>1</th>\n",
       "      <td>5467542589</td>\n",
       "    </tr>\n",
       "    <tr>\n",
       "      <th>2</th>\n",
       "      <td>5755912379</td>\n",
       "    </tr>\n",
       "    <tr>\n",
       "      <th>3</th>\n",
       "      <td>7812955205</td>\n",
       "    </tr>\n",
       "    <tr>\n",
       "      <th>4</th>\n",
       "      <td>9405881516</td>\n",
       "    </tr>\n",
       "  </tbody>\n",
       "</table>\n",
       "</div>"
      ],
      "text/plain": [
       "  phone_numbers\n",
       "0    9105094403\n",
       "1    5467542589\n",
       "2    5755912379\n",
       "3    7812955205\n",
       "4    9405881516"
      ]
     },
     "execution_count": 14,
     "metadata": {},
     "output_type": "execute_result"
    }
   ],
   "source": [
    "phone_numbers_data['phone_numbers'] = phone_numbers_data['phone_numbers'].str.replace(r'\\+91 ', '', regex=True)\n",
    "\n",
    "num_digits = phone_numbers_data['phone_numbers'].str.len()\n",
    "\n",
    "invalid_numbers_index = phone_numbers_data[num_digits < 10].index\n",
    "phone_numbers_data.drop(invalid_numbers_index, inplace=True)\n",
    "\n",
    "phone_numbers_data.dropna(inplace=True)\n",
    "phone_numbers_data.reset_index(drop=True, inplace=True)\n",
    "\n",
    "phone_numbers_data.head()"
   ]
  },
  {
   "cell_type": "code",
   "execution_count": 15,
   "id": "245ac336-fe30-4502-8631-0c249cf028d0",
   "metadata": {},
   "outputs": [],
   "source": [
    "assert not phone_numbers_data['phone_numbers'].str.contains(r'\\+91 ').any(), \"Found phone numbers with '+91 ' prefix\"\n",
    "assert (phone_numbers_data['phone_numbers'].str.len() == 10).all(), \"Some phone numbers do not have 10 digits\""
   ]
  },
  {
   "cell_type": "code",
   "execution_count": 16,
   "id": "1fa9b061-3423-44b1-931b-5c2f199c0455",
   "metadata": {},
   "outputs": [
    {
     "data": {
      "image/png": "[encoded data removed]",
      "text/plain": [
       "<Figure size 640x480 with 1 Axes>"
      ]
     },
     "metadata": {},
     "output_type": "display_data"
    }
   ],
   "source": [
    "import seaborn as sns\n",
    "sns.countplot(x='blood_type', data=without_bogus_records)\n",
    "plt.title('Count of Blood Types')\n",
    "plt.xlabel('Blood Type')\n",
    "plt.ylabel('Count')\n",
    "plt.tight_layout()\n",
    "plt.show()"
   ]
  },
  {
   "cell_type": "code",
   "execution_count": 17,
   "id": "70227e6d-a8d3-46b6-b0df-e97fe0068f1a",
   "metadata": {},
   "outputs": [
    {
     "data": {
      "image/png": "[encoded data removed]",
      "text/plain": [
       "<Figure size 640x480 with 1 Axes>"
      ]
     },
     "metadata": {},
     "output_type": "display_data"
    }
   ],
   "source": [
    "sns.boxplot(x='marriage_status', y='income', data=inconsistent_data)\n",
    "\n",
    "plt.title('Income Distribution by Marriage Status')\n",
    "plt.xlabel('Marriage Status')\n",
    "plt.ylabel('Income') \n",
    "plt.tight_layout()\n",
    "plt.show()"
   ]
  },
  {
   "cell_type": "markdown",
   "id": "ca8b41d8-6e05-42a4-b93c-e98ab55984f3",
   "metadata": {},
   "source": [
    "## Encoding Categorical Data"
   ]
  },
  {
   "cell_type": "code",
   "execution_count": 18,
   "id": "b835961a-f325-4654-9319-7b3c62dc44a1",
   "metadata": {},
   "outputs": [
    {
     "data": {
      "text/html": [
       "<div>\n",
       "<style scoped>\n",
       "    .dataframe tbody tr th:only-of-type {\n",
       "        vertical-align: middle;\n",
       "    }\n",
       "\n",
       "    .dataframe tbody tr th {\n",
       "        vertical-align: top;\n",
       "    }\n",
       "\n",
       "    .dataframe thead th {\n",
       "        text-align: right;\n",
       "    }\n",
       "</style>\n",
       "<table border=\"1\" class=\"dataframe\">\n",
       "  <thead>\n",
       "    <tr style=\"text-align: right;\">\n",
       "      <th></th>\n",
       "      <th>blood_type</th>\n",
       "      <th>blood_type_encoded</th>\n",
       "    </tr>\n",
       "  </thead>\n",
       "  <tbody>\n",
       "    <tr>\n",
       "      <th>0</th>\n",
       "      <td>A+</td>\n",
       "      <td>0</td>\n",
       "    </tr>\n",
       "    <tr>\n",
       "      <th>1</th>\n",
       "      <td>B+</td>\n",
       "      <td>4</td>\n",
       "    </tr>\n",
       "    <tr>\n",
       "      <th>5</th>\n",
       "      <td>A-</td>\n",
       "      <td>1</td>\n",
       "    </tr>\n",
       "    <tr>\n",
       "      <th>7</th>\n",
       "      <td>AB-</td>\n",
       "      <td>3</td>\n",
       "    </tr>\n",
       "    <tr>\n",
       "      <th>9</th>\n",
       "      <td>AB+</td>\n",
       "      <td>2</td>\n",
       "    </tr>\n",
       "    <tr>\n",
       "      <th>10</th>\n",
       "      <td>B-</td>\n",
       "      <td>5</td>\n",
       "    </tr>\n",
       "    <tr>\n",
       "      <th>12</th>\n",
       "      <td>O-</td>\n",
       "      <td>7</td>\n",
       "    </tr>\n",
       "    <tr>\n",
       "      <th>21</th>\n",
       "      <td>O+</td>\n",
       "      <td>6</td>\n",
       "    </tr>\n",
       "  </tbody>\n",
       "</table>\n",
       "</div>"
      ],
      "text/plain": [
       "   blood_type  blood_type_encoded\n",
       "0          A+                   0\n",
       "1          B+                   4\n",
       "5          A-                   1\n",
       "7         AB-                   3\n",
       "9         AB+                   2\n",
       "10         B-                   5\n",
       "12         O-                   7\n",
       "21         O+                   6"
      ]
     },
     "execution_count": 18,
     "metadata": {},
     "output_type": "execute_result"
    }
   ],
   "source": [
    "le = LabelEncoder()\n",
    "without_bogus_records['blood_type_encoded'] = le.fit_transform(without_bogus_records['blood_type'])\n",
    "\n",
    "without_bogus_records[['blood_type', 'blood_type_encoded']].drop_duplicates()"
   ]
  },
  {
   "cell_type": "code",
   "execution_count": 19,
   "id": "bb7d58f2-477d-4631-8331-4e1efd50f20b",
   "metadata": {},
   "outputs": [
    {
     "data": {
      "text/html": [
       "<div>\n",
       "<style scoped>\n",
       "    .dataframe tbody tr th:only-of-type {\n",
       "        vertical-align: middle;\n",
       "    }\n",
       "\n",
       "    .dataframe tbody tr th {\n",
       "        vertical-align: top;\n",
       "    }\n",
       "\n",
       "    .dataframe thead th {\n",
       "        text-align: right;\n",
       "    }\n",
       "</style>\n",
       "<table border=\"1\" class=\"dataframe\">\n",
       "  <thead>\n",
       "    <tr style=\"text-align: right;\">\n",
       "      <th></th>\n",
       "      <th>first_name</th>\n",
       "      <th>last_name</th>\n",
       "      <th>blood_type</th>\n",
       "      <th>income</th>\n",
       "      <th>device</th>\n",
       "      <th>marriage_status_divorced</th>\n",
       "      <th>marriage_status_married</th>\n",
       "      <th>marriage_status_separated</th>\n",
       "      <th>marriage_status_unmarried</th>\n",
       "    </tr>\n",
       "  </thead>\n",
       "  <tbody>\n",
       "    <tr>\n",
       "      <th>0</th>\n",
       "      <td>Abdul</td>\n",
       "      <td>Colon</td>\n",
       "      <td>A+</td>\n",
       "      <td>145000</td>\n",
       "      <td>AndroidOS</td>\n",
       "      <td>False</td>\n",
       "      <td>True</td>\n",
       "      <td>False</td>\n",
       "      <td>False</td>\n",
       "    </tr>\n",
       "    <tr>\n",
       "      <th>1</th>\n",
       "      <td>Abdul</td>\n",
       "      <td>Pierce</td>\n",
       "      <td>B+</td>\n",
       "      <td>85000</td>\n",
       "      <td>MacOS</td>\n",
       "      <td>False</td>\n",
       "      <td>True</td>\n",
       "      <td>False</td>\n",
       "      <td>False</td>\n",
       "    </tr>\n",
       "    <tr>\n",
       "      <th>2</th>\n",
       "      <td>Desirae</td>\n",
       "      <td>Pierce</td>\n",
       "      <td>B+</td>\n",
       "      <td>130000</td>\n",
       "      <td>iOS</td>\n",
       "      <td>False</td>\n",
       "      <td>True</td>\n",
       "      <td>False</td>\n",
       "      <td>False</td>\n",
       "    </tr>\n",
       "    <tr>\n",
       "      <th>3</th>\n",
       "      <td>Shannon</td>\n",
       "      <td>Gibson</td>\n",
       "      <td>A+</td>\n",
       "      <td>175000</td>\n",
       "      <td>MacOS</td>\n",
       "      <td>False</td>\n",
       "      <td>True</td>\n",
       "      <td>False</td>\n",
       "      <td>False</td>\n",
       "    </tr>\n",
       "    <tr>\n",
       "      <th>4</th>\n",
       "      <td>Desirae</td>\n",
       "      <td>Little</td>\n",
       "      <td>B+</td>\n",
       "      <td>130000</td>\n",
       "      <td>MacOS</td>\n",
       "      <td>False</td>\n",
       "      <td>False</td>\n",
       "      <td>False</td>\n",
       "      <td>True</td>\n",
       "    </tr>\n",
       "  </tbody>\n",
       "</table>\n",
       "</div>"
      ],
      "text/plain": [
       "  first_name last_name blood_type  income     device  \\\n",
       "0      Abdul     Colon         A+  145000  AndroidOS   \n",
       "1      Abdul    Pierce         B+   85000      MacOS   \n",
       "2    Desirae    Pierce         B+  130000        iOS   \n",
       "3    Shannon    Gibson         A+  175000      MacOS   \n",
       "4    Desirae    Little         B+  130000      MacOS   \n",
       "\n",
       "   marriage_status_divorced  marriage_status_married  \\\n",
       "0                     False                     True   \n",
       "1                     False                     True   \n",
       "2                     False                     True   \n",
       "3                     False                     True   \n",
       "4                     False                    False   \n",
       "\n",
       "   marriage_status_separated  marriage_status_unmarried  \n",
       "0                      False                      False  \n",
       "1                      False                      False  \n",
       "2                      False                      False  \n",
       "3                      False                      False  \n",
       "4                      False                       True  "
      ]
     },
     "execution_count": 19,
     "metadata": {},
     "output_type": "execute_result"
    }
   ],
   "source": [
    "inconsistent_data = pd.get_dummies(inconsistent_data, columns=['marriage_status'])\n",
    "inconsistent_data.head()"
   ]
  },
  {
   "cell_type": "code",
   "execution_count": 20,
   "id": "da9b0922-f282-4eb0-b816-1d0ddc963dd8",
   "metadata": {},
   "outputs": [
    {
     "data": {
      "text/html": [
       "<div>\n",
       "<style scoped>\n",
       "    .dataframe tbody tr th:only-of-type {\n",
       "        vertical-align: middle;\n",
       "    }\n",
       "\n",
       "    .dataframe tbody tr th {\n",
       "        vertical-align: top;\n",
       "    }\n",
       "\n",
       "    .dataframe thead th {\n",
       "        text-align: right;\n",
       "    }\n",
       "</style>\n",
       "<table border=\"1\" class=\"dataframe\">\n",
       "  <thead>\n",
       "    <tr style=\"text-align: right;\">\n",
       "      <th></th>\n",
       "      <th>income</th>\n",
       "      <th>income_groups</th>\n",
       "      <th>income_groups_encoded</th>\n",
       "    </tr>\n",
       "  </thead>\n",
       "  <tbody>\n",
       "    <tr>\n",
       "      <th>0</th>\n",
       "      <td>145000</td>\n",
       "      <td>125k-150k</td>\n",
       "      <td>4</td>\n",
       "    </tr>\n",
       "    <tr>\n",
       "      <th>1</th>\n",
       "      <td>85000</td>\n",
       "      <td>75k-100k</td>\n",
       "      <td>2</td>\n",
       "    </tr>\n",
       "    <tr>\n",
       "      <th>2</th>\n",
       "      <td>130000</td>\n",
       "      <td>125k-150k</td>\n",
       "      <td>4</td>\n",
       "    </tr>\n",
       "    <tr>\n",
       "      <th>3</th>\n",
       "      <td>175000</td>\n",
       "      <td>150k+</td>\n",
       "      <td>5</td>\n",
       "    </tr>\n",
       "    <tr>\n",
       "      <th>4</th>\n",
       "      <td>130000</td>\n",
       "      <td>125k-150k</td>\n",
       "      <td>4</td>\n",
       "    </tr>\n",
       "  </tbody>\n",
       "</table>\n",
       "</div>"
      ],
      "text/plain": [
       "   income income_groups income_groups_encoded\n",
       "0  145000     125k-150k                     4\n",
       "1   85000      75k-100k                     2\n",
       "2  130000     125k-150k                     4\n",
       "3  175000         150k+                     5\n",
       "4  130000     125k-150k                     4"
      ]
     },
     "execution_count": 20,
     "metadata": {},
     "output_type": "execute_result"
    }
   ],
   "source": [
    "custom_map = {\n",
    "    '40k-75k': 1,\n",
    "    '75k-100k': 2,\n",
    "    '100k-125k': 3,\n",
    "    '125k-150k': 4,\n",
    "    '150k+': 5\n",
    "}\n",
    "\n",
    "remapping_data['income_groups_encoded'] = remapping_data['income_groups'].map(custom_map)\n",
    "\n",
    "remapping_data[['income', 'income_groups', 'income_groups_encoded']].head()"
   ]
  },
  {
   "cell_type": "code",
   "execution_count": null,
   "id": "b1163886-64a5-4a47-bcb1-efa62bc8ba36",
   "metadata": {},
   "outputs": [],
   "source": []
  }
 ],
 "metadata": {
  "kernelspec": {
   "display_name": "Python 3 (ipykernel)",
   "language": "python",
   "name": "python3"
  },
  "language_info": {
   "codemirror_mode": {
    "name": "ipython",
    "version": 3
   },
   "file_extension": ".py",
   "mimetype": "text/x-python",
   "name": "python",
   "nbconvert_exporter": "python",
   "pygments_lexer": "ipython3",
   "version": "3.13.5"
  }
 },
 "nbformat": 4,
 "nbformat_minor": 5
}
